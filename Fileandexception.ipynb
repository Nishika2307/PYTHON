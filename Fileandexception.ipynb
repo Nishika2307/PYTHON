{
 "cells": [
  {
   "cell_type": "markdown",
   "id": "2c3b81f6-14bc-466c-ba89-da63f40352d6",
   "metadata": {},
   "source": [
    "# File and Exception"
   ]
  },
  {
   "cell_type": "code",
   "execution_count": 21,
   "id": "a9651376-39eb-4b61-b8d9-146d27d3b01b",
   "metadata": {},
   "outputs": [
    {
     "name": "stdout",
     "output_type": "stream",
     "text": [
      "Good Evening\n"
     ]
    }
   ],
   "source": [
    "with open(\"account.txt\",mode=\"w\") as account:\n",
    "    account.write(\"100 Jones 24.98\\n\")\n",
    "    account.write(\"200 Doe 345.67\\n\")\n",
    "    account.write(\"300 White 0.00\\n\")\n",
    "    account.write(\"400 Stone -42.16\\n\")\n",
    "f=open(\"account.txt\",mode=\"w+\")\n",
    "#f.read()\n",
    "f.write(\"Good Evening\")\n",
    "f.seek(0)\n",
    "print(f.read())\n",
    "#print(f.read(10))\n",
    "#print(f.tell())\n",
    "#print(f.read(5))\n",
    "#f.seek(0)\n",
    "#print(f.read())\n",
    "#print(f.readlines())\n"
   ]
  },
  {
   "cell_type": "code",
   "execution_count": 4,
   "id": "579fe1c6-83aa-46bf-8cbd-e42cd3c9335b",
   "metadata": {},
   "outputs": [],
   "source": [
    "# Create and write to a text file\n",
    "with open(\"example.txt\", \"w\") as file:\n",
    "    file.write(\"Hello, this is a text file created in Jupyter Notebook!\")\n"
   ]
  },
  {
   "cell_type": "code",
   "execution_count": 7,
   "id": "06d4e1c8-bdcd-461c-9847-bf35501084e7",
   "metadata": {},
   "outputs": [
    {
     "name": "stdout",
     "output_type": "stream",
     "text": [
      "Account   Name         Balance\n",
      "100       Jones          24.98\n",
      "200       Doe           345.67\n",
      "300       White           0.00\n",
      "400       Stone         -42.16\n"
     ]
    }
   ],
   "source": [
    "# reading a data from a text file\n",
    "with open(\"account.txt\",mode=\"r\") as account:\n",
    "    print(f'{\"Account\":<10}{\"Name\":<10}{\"Balance\":>10}')\n",
    "    for record in account:\n",
    "        account, name, balance=record.split()\n",
    "        print(f'{account:<10}{name:<10}{balance:>10}')\n",
    "        "
   ]
  },
  {
   "cell_type": "code",
   "execution_count": 9,
   "id": "5e5da922-e5e7-453c-a251-0c2a0b5b2727",
   "metadata": {},
   "outputs": [
    {
     "name": "stdout",
     "output_type": "stream",
     "text": [
      "100 Jones 24.98\n",
      "200 Doe 345.67\n",
      "300 White 0.00\n",
      "400 Stone -42.16\n",
      "\n"
     ]
    }
   ],
   "source": [
    "# Open the file in read mode\n",
    "with open(\"account.txt\", \"r\") as file:\n",
    "    data = file.read()\n",
    "# Print the content\n",
    "print(data)\n"
   ]
  },
  {
   "cell_type": "code",
   "execution_count": 121,
   "id": "c07bb709-de9c-40ed-94a3-a788eb941306",
   "metadata": {},
   "outputs": [
    {
     "name": "stdout",
     "output_type": "stream",
     "text": [
      "Account Name Balance\n",
      "123 John 2500.50\n",
      "456 Alice 1500.75\n"
     ]
    }
   ],
   "source": [
    "# Open the file in read mode\n",
    "with open(\"account.txt\", \"r\") as file:\n",
    "    lines = file.readlines()\n",
    "\n",
    "# Print each line\n",
    "for line in lines:\n",
    "    print(line.strip())  # .strip() removes any extra whitespace or newline characters\n"
   ]
  },
  {
   "cell_type": "code",
   "execution_count": 67,
   "id": "41208e09-c123-49dd-9d32-fe7a09e11f9c",
   "metadata": {},
   "outputs": [],
   "source": [
    "account=open(\"account.txt\",\"r\")\n",
    "temp_file=open(\"temp_file.txt\",\"w\")\n",
    "with account,temp_file:\n",
    "    for record in account:\n",
    "        account, name, balance=record.split()\n",
    "        if account!=\"300\":\n",
    "            temp_file.write(record)\n",
    "        else:\n",
    "            new_record=\" \".join([account,\"William\", balance])\n",
    "            temp_file.write(new_record+\"\\n\")\n"
   ]
  },
  {
   "cell_type": "code",
   "execution_count": 37,
   "id": "7e1505d5-0435-40f9-89bc-36a50015987b",
   "metadata": {},
   "outputs": [
    {
     "name": "stdout",
     "output_type": "stream",
     "text": [
      "100 Jones 24.98\n",
      "200 Doe 345.67\n",
      "300 William 0.00\n",
      "400 Stone -42.16\n",
      "\n"
     ]
    }
   ],
   "source": [
    "temp_file=open(\"temp_file.txt\",\"r\")\n",
    "print(temp_file.read())"
   ]
  },
  {
   "cell_type": "code",
   "execution_count": 53,
   "id": "400096b3-8fa5-4e26-972d-e157180b73db",
   "metadata": {},
   "outputs": [
    {
     "name": "stdout",
     "output_type": "stream",
     "text": [
      "100\n",
      " Jon\n",
      "7\n",
      "100\n"
     ]
    }
   ],
   "source": [
    "temp_file=open(\"temp_file.txt\",\"r\")\n",
    "print(temp_file.read(3))\n",
    "print(temp_file.read(4))\n",
    "print(temp_file.tell()) #to get the correct position file cursor\n",
    "temp_file.seek(0) ### to make it in that particular position\n",
    "print(temp_file.read(3))"
   ]
  },
  {
   "cell_type": "code",
   "execution_count": 65,
   "id": "b6f88221-cf1a-4786-857d-9700f4911b80",
   "metadata": {},
   "outputs": [
    {
     "name": "stdout",
     "output_type": "stream",
     "text": [
      "['100 Jones 24.98']\n",
      "100 Jones 24.98\n"
     ]
    }
   ],
   "source": [
    "#temp_file=open(\"temp_file.txt\",\"r\")\n",
    "#print(temp_file.readlines())\n",
    "#temp_file=open(\"temp_file.txt\",\"w\")\n",
    "#temp_file.write(\"100 Jones 24.98\")\n",
    "#temp_file=open(\"temp_file.txt\",\"r\")\n",
    "#print(temp_file.read())"
   ]
  },
  {
   "cell_type": "code",
   "execution_count": 69,
   "id": "c824610a-8780-4eb2-871a-f2e9683eb2ca",
   "metadata": {},
   "outputs": [
    {
     "name": "stdout",
     "output_type": "stream",
     "text": [
      "Account   Name         Balance\n",
      "100       Jones          24.98\n",
      "200       Doe           345.67\n",
      "300       White           0.00\n",
      "400       Stone         -42.16\n",
      "101       Sarah        3000.00\n",
      "102       Mike         4200.50\n",
      "103       Emma         2800.75\n",
      "104       Liam         5000.00\n"
     ]
    }
   ],
   "source": [
    "# Append new records to the file\n",
    "with open(\"account.txt\", mode=\"a\") as account_file:\n",
    "    # Add new records (example data)\n",
    "    account_file.write(\"101 Sarah 3000.00\\n\")\n",
    "    account_file.write(\"102 Mike 4200.50\\n\")\n",
    "# Append data to the file\n",
    "with open(\"account.txt\", mode=\"a\") as account_file:\n",
    "    # Add new records\n",
    "    account_file.write(\"103 Emma 2800.75\\n\")\n",
    "    account_file.write(\"104 Liam 5000.00\\n\")\n",
    "\n",
    "# Read the updated file to verify the appended data\n",
    "with open(\"account.txt\", mode=\"r\") as account_file:\n",
    "    print(f'{\"Account\":<10}{\"Name\":<10}{\"Balance\":>10}')\n",
    "    for record in account_file:\n",
    "        account, name, balance = record.split()\n",
    "        print(f'{account:<10}{name:<10}{balance:>10}')\n"
   ]
  },
  {
   "cell_type": "code",
   "execution_count": 135,
   "id": "ad06adf6-d79f-49f6-8ecd-1cd556b796da",
   "metadata": {},
   "outputs": [
    {
     "name": "stdout",
     "output_type": "stream",
     "text": [
      "Before writing: Hello, World!\n",
      "After writing: Hello, World!Hi\n"
     ]
    }
   ],
   "source": [
    "# Create a sample file for demonstration\n",
    "with open(\"sample.txt\", \"w\") as file:\n",
    "    file.write(\"Hello, World!\")\n",
    "\n",
    "# Open file in r+ mode\n",
    "with open(\"sample.txt\", \"r+\") as file:\n",
    "    print(\"Before writing:\", file.read())  #Read existing content\n",
    "    #file.seek(0)  #Move pointer to the start\n",
    "    file.write(\"Hi\")  #Overwrite content\n",
    "    file.seek(0)  #Move pointer back to the start\n",
    "    print(\"After writing:\", file.read())  # Check updated content\n"
   ]
  },
  {
   "cell_type": "code",
   "execution_count": 137,
   "id": "49b4abd9-a38e-4cee-8e61-1dff44f450e8",
   "metadata": {},
   "outputs": [
    {
     "name": "stdout",
     "output_type": "stream",
     "text": [
      "\n",
      "After writing: New Content\n"
     ]
    }
   ],
   "source": [
    "with open(\"sample.txt\", \"w+\") as file:\n",
    "    print(file.read())\n",
    "    file.write(\"New Content\")  # Overwrite existing content\n",
    "    file.seek(0)  # Move pointer back to the start\n",
    "    print(\"After writing:\", file.read())  # Check new content\n"
   ]
  },
  {
   "cell_type": "code",
   "execution_count": 92,
   "id": "93a56e87-96f3-454a-84d9-b10c631f6fba",
   "metadata": {},
   "outputs": [
    {
     "name": "stdout",
     "output_type": "stream",
     "text": [
      "Account Name Balance\n",
      "123 John 2500.50\n",
      "456 Alice 1500.75\n",
      "\n"
     ]
    }
   ],
   "source": [
    "# List of strings to write\n",
    "lines = [\"Account Name Balance\\n\", \"123 John 2500.50\\n\", \"456 Alice 1500.75\\n\"]\n",
    "\n",
    "# Open file in write mode\n",
    "with open(\"account.txt\", \"w\") as file:\n",
    "    file.writelines(lines)\n",
    "\n",
    "# Verify content\n",
    "with open(\"account.txt\", \"r\") as file:\n",
    "    print(file.read())\n"
   ]
  },
  {
   "cell_type": "markdown",
   "id": "9e3d24bd-1444-4102-8e55-b10215e7e1ab",
   "metadata": {},
   "source": [
    "# Exception "
   ]
  },
  {
   "cell_type": "code",
   "execution_count": 22,
   "id": "27ae340f-de9e-40b8-a78a-e5838a14ed55",
   "metadata": {},
   "outputs": [
    {
     "name": "stdout",
     "output_type": "stream",
     "text": [
      "Enter the numerator:  k\n"
     ]
    },
    {
     "name": "stdout",
     "output_type": "stream",
     "text": [
      "Error: Please enter valid integers.\n",
      "Good Evenning\n"
     ]
    }
   ],
   "source": [
    "try:\n",
    "    # Get user input\n",
    "    numerator = int(input(\"Enter the numerator: \"))\n",
    "    denominator = int(input(\"Enter the denominator: \"))\n",
    "    \n",
    "    # Perform division\n",
    "    result = numerator / denominator\n",
    "\n",
    "except ZeroDivisionError:\n",
    "    # Handle division by zero\n",
    "    print(\"Error: Division by zero is not allowed.\")\n",
    "\n",
    "except ValueError:\n",
    "    # Handle invalid input (non-integer)\n",
    "    print(\"Error: Please enter valid integers.\")\n",
    "\n",
    "else:\n",
    "    # Executes if no exceptions occur\n",
    "    print(f\"The result of the division is: {result}\")\n",
    "print(\"Good Evenning\")\n"
   ]
  },
  {
   "cell_type": "code",
   "execution_count": 27,
   "id": "e05f5be8-0882-464c-b23f-ad42f7d04b1e",
   "metadata": {},
   "outputs": [
    {
     "name": "stdout",
     "output_type": "stream",
     "text": [
      "Enter a number:  12\n"
     ]
    },
    {
     "name": "stdout",
     "output_type": "stream",
     "text": [
      "The result is: 0.8333333333333334\n",
      "hello\n"
     ]
    }
   ],
   "source": [
    "try:\n",
    "    # Prompt user for input and perform division\n",
    "    num = int(input(\"Enter a number: \"))\n",
    "    result = 10 / num\n",
    "except (ValueError, ZeroDivisionError) as a:\n",
    "    # Handle both ValueError and ZeroDivisionError\n",
    "    print(f\"Error occurred: {a}\")\n",
    "else:\n",
    "   print(f\"The result is: {result}\")\n",
    "   print(\"hello\")\n"
   ]
  },
  {
   "cell_type": "code",
   "execution_count": 28,
   "id": "e9a1de7c-77f9-4a56-b4d9-118688ed823a",
   "metadata": {},
   "outputs": [
    {
     "name": "stdout",
     "output_type": "stream",
     "text": [
      "Enter numerator:  k\n"
     ]
    },
    {
     "name": "stdout",
     "output_type": "stream",
     "text": [
      "Error: Invalid input. Please enter integers.\n",
      "Execution of division operation is complete.\n"
     ]
    }
   ],
   "source": [
    "try:\n",
    "    numerator = int(input(\"Enter numerator: \"))\n",
    "    denominator = int(input(\"Enter denominator: \"))\n",
    "    result = numerator / denominator\n",
    "    print(f\"The result is: {result}\")\n",
    "except ZeroDivisionError:\n",
    "    print(\"Error: Cannot divide by zero.\")\n",
    "except ValueError:\n",
    "    print(\"Error: Invalid input. Please enter integers.\")\n",
    "finally:\n",
    "    print(\"Execution of division operation is complete.\")\n"
   ]
  },
  {
   "cell_type": "code",
   "execution_count": 30,
   "id": "d79ac52c-ef75-49d2-b0b9-d096e9d6fb4b",
   "metadata": {},
   "outputs": [
    {
     "name": "stdout",
     "output_type": "stream",
     "text": [
      "An unexpected error occurred:\n"
     ]
    }
   ],
   "source": [
    "try:\n",
    "    # Risky code\n",
    "    result = \"10\" + 10  # TypeError\n",
    "except:\n",
    "    print(f\"An unexpected error occurred:\")\n"
   ]
  },
  {
   "cell_type": "markdown",
   "id": "611d5296-6d3c-4bef-8a66-16f6681a3e68",
   "metadata": {},
   "source": [
    "# CSV File\n"
   ]
  },
  {
   "cell_type": "code",
   "execution_count": 32,
   "id": "5e3fc71f-9da7-401c-a90e-87f036c224a1",
   "metadata": {},
   "outputs": [
    {
     "name": "stdout",
     "output_type": "stream",
     "text": [
      "Data written to output.csv\n",
      "['Name', 'Age', 'City']\n",
      "['Alice', '30', 'New York']\n",
      "['Bob', '25', 'Los Angeles']\n",
      "['Charlie', '35', 'Chicago']\n",
      "      Name  Age         City\n",
      "0    Alice   30     New York\n",
      "1      Bob   25  Los Angeles\n",
      "2  Charlie   35      Chicago\n",
      "['', 'Name', 'Age', 'City']\n",
      "['0', 'Alice', '30', 'New York']\n",
      "['1', 'Bob', '25', 'Los Angeles']\n",
      "['2', 'Charlie', '35', 'Chicago']\n"
     ]
    }
   ],
   "source": [
    "import csv\n",
    "\n",
    "# Data to write\n",
    "data = [\n",
    "    [\"Name\", \"Age\", \"City\"],  # Header row\n",
    "    [\"Alice\", 30, \"New York\"],\n",
    "    [\"Bob\", 25, \"Los Angeles\"],\n",
    "    [\"Charlie\", 35, \"Chicago\"]\n",
    "]\n",
    "\n",
    "# Writing to a CSV file\n",
    "filename = \"output.csv\"\n",
    "with open(filename, mode=\"w\", newline=\"\") as file:\n",
    "    writer = csv.writer(file)\n",
    "    writer.writerows(data)  # Write all rows at once\n",
    "\n",
    "print(f\"Data written to {filename}\")\n",
    "\n",
    "import csv\n",
    "\n",
    "# File to read\n",
    "filename = \"output.csv\"\n",
    "\n",
    "# Reading data\n",
    "with open(filename, mode=\"r\") as file:\n",
    "    reader = csv.reader(file)\n",
    "    \n",
    "    # Iterate through rows and print\n",
    "    for row in reader:\n",
    "        print(row)\n",
    "\n",
    "import pandas as pd\n",
    "df=pd.read_csv(\"output.csv\")\n",
    "print(df)\n",
    "df.to_csv(\"NewStore.csv\",index=True)\n",
    "\n",
    "with open(\"NewStore.csv\", mode=\"r\") as file:\n",
    "    reader = csv.reader(file)\n",
    "    \n",
    "    # Iterate through rows and print\n",
    "    for row in reader:\n",
    "        print(row)"
   ]
  },
  {
   "cell_type": "code",
   "execution_count": 33,
   "id": "bfba02d1-65ae-451f-8728-fe02baf3d999",
   "metadata": {},
   "outputs": [
    {
     "name": "stdout",
     "output_type": "stream",
     "text": [
      "   PassengerId  Survived  Pclass  \\\n",
      "0            1         0       3   \n",
      "1            2         1       1   \n",
      "2            3         1       3   \n",
      "3            4         1       1   \n",
      "4            5         0       3   \n",
      "\n",
      "                                                Name     Sex   Age  SibSp  \\\n",
      "0                            Braund, Mr. Owen Harris    male  22.0      1   \n",
      "1  Cumings, Mrs. John Bradley (Florence Briggs Th...  female  38.0      1   \n",
      "2                             Heikkinen, Miss. Laina  female  26.0      0   \n",
      "3       Futrelle, Mrs. Jacques Heath (Lily May Peel)  female  35.0      1   \n",
      "4                           Allen, Mr. William Henry    male  35.0      0   \n",
      "\n",
      "   Parch            Ticket     Fare Cabin Embarked  \n",
      "0      0         A/5 21171   7.2500   NaN        S  \n",
      "1      0          PC 17599  71.2833   C85        C  \n",
      "2      0  STON/O2. 3101282   7.9250   NaN        S  \n",
      "3      0            113803  53.1000  C123        S  \n",
      "4      0            373450   8.0500   NaN        S  \n",
      "     PassengerId  Survived  Pclass                                      Name  \\\n",
      "886          887         0       2                     Montvila, Rev. Juozas   \n",
      "887          888         1       1              Graham, Miss. Margaret Edith   \n",
      "888          889         0       3  Johnston, Miss. Catherine Helen \"Carrie\"   \n",
      "889          890         1       1                     Behr, Mr. Karl Howell   \n",
      "890          891         0       3                       Dooley, Mr. Patrick   \n",
      "\n",
      "        Sex   Age  SibSp  Parch      Ticket   Fare Cabin Embarked  \n",
      "886    male  27.0      0      0      211536  13.00   NaN        S  \n",
      "887  female  19.0      0      0      112053  30.00   B42        S  \n",
      "888  female   NaN      1      2  W./C. 6607  23.45   NaN        S  \n",
      "889    male  26.0      0      0      111369  30.00  C148        C  \n",
      "890    male  32.0      0      0      370376   7.75   NaN        Q  \n",
      "       PassengerId    Survived      Pclass         Age       SibSp  \\\n",
      "count   891.000000  891.000000  891.000000  714.000000  891.000000   \n",
      "mean    446.000000    0.383838    2.308642   29.699118    0.523008   \n",
      "std     257.353842    0.486592    0.836071   14.526497    1.102743   \n",
      "min       1.000000    0.000000    1.000000    0.420000    0.000000   \n",
      "25%     223.500000    0.000000    2.000000   20.125000    0.000000   \n",
      "50%     446.000000    0.000000    3.000000   28.000000    0.000000   \n",
      "75%     668.500000    1.000000    3.000000   38.000000    1.000000   \n",
      "max     891.000000    1.000000    3.000000   80.000000    8.000000   \n",
      "\n",
      "            Parch        Fare  \n",
      "count  891.000000  891.000000  \n",
      "mean     0.381594   32.204208  \n",
      "std      0.806057   49.693429  \n",
      "min      0.000000    0.000000  \n",
      "25%      0.000000    7.910400  \n",
      "50%      0.000000   14.454200  \n",
      "75%      0.000000   31.000000  \n",
      "max      6.000000  512.329200  \n"
     ]
    }
   ],
   "source": [
    "import pandas as pd\n",
    "\n",
    "# Titanic dataset URL (Kaggle version hosted online)\n",
    "url = \"https://raw.githubusercontent.com/datasciencedojo/datasets/master/titanic.csv\"\n",
    "\n",
    "# Load the dataset into a DataFrame\n",
    "titanic_data = pd.read_csv(url)\n",
    "\n",
    "# Display the first few rows of the dataset\n",
    "print(titanic_data.head())\n",
    "print(titanic_data.tail())\n",
    "print(titanic_data.describe())\n",
    "\n"
   ]
  },
  {
   "cell_type": "code",
   "execution_count": 180,
   "id": "80542b34-a242-4e13-9b2a-27f30d8a6f49",
   "metadata": {},
   "outputs": [
    {
     "name": "stdout",
     "output_type": "stream",
     "text": [
      "CSV file written with a pipe delimiter.\n",
      "['Name|Age|City']\n",
      "['Alice|30|New York']\n",
      "['Bob|25|Los Angeles']\n",
      "['Charlie|35|Chicago']\n"
     ]
    }
   ],
   "source": [
    "import csv\n",
    "\n",
    "# Data to write\n",
    "data = [\n",
    "    [\"Name\", \"Age\", \"City\"],\n",
    "    [\"Alice\", 30, \"New York\"],\n",
    "    [\"Bob\", 25, \"Los Angeles\"],\n",
    "    [\"Charlie\", 35, \"Chicago\"]\n",
    "]\n",
    "\n",
    "# Write to a CSV file with pipe as the delimiter\n",
    "with open(\"example_pipe.csv\", mode=\"w\", newline=\"\") as file:\n",
    "    writer = csv.writer(file, delimiter=\"|\")  # Set delimiter to pipe\n",
    "    writer.writerows(data)\n",
    "\n",
    "print(\"CSV file written with a pipe delimiter.\")\n",
    "f=open(\"example_pipe.csv\",\"r\")\n",
    "reader=csv.reader(f)\n",
    "for row in reader:\n",
    "    print(row)"
   ]
  },
  {
   "cell_type": "code",
   "execution_count": null,
   "id": "b4ce6308-0dc9-4762-ae9c-e575b0b622a6",
   "metadata": {},
   "outputs": [],
   "source": []
  }
 ],
 "metadata": {
  "kernelspec": {
   "display_name": "Python 3 (ipykernel)",
   "language": "python",
   "name": "python3"
  },
  "language_info": {
   "codemirror_mode": {
    "name": "ipython",
    "version": 3
   },
   "file_extension": ".py",
   "mimetype": "text/x-python",
   "name": "python",
   "nbconvert_exporter": "python",
   "pygments_lexer": "ipython3",
   "version": "3.11.7"
  }
 },
 "nbformat": 4,
 "nbformat_minor": 5
}
