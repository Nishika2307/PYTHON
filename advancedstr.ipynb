{
 "cells": [
  {
   "cell_type": "code",
   "execution_count": 39,
   "id": "736d871e-6ca4-4db4-bb17-7c2047e8e992",
   "metadata": {},
   "outputs": [
    {
     "name": "stdout",
     "output_type": "stream",
     "text": [
      "happy birthday\n",
      "Happy birthday\n",
      "Happy Birthday\n",
      "2\n",
      "1\n",
      "1\n",
      "1\n",
      "3\n",
      "16\n",
      "3\n",
      "16\n",
      "-1\n",
      "True\n",
      "False\n",
      "True\n",
      "False\n",
      "to\tbe\tor\tnot\tto\tbe\tthat\tis\tthe\tquestion\n"
     ]
    }
   ],
   "source": [
    "s=\"happy birthday\"\n",
    "s1=s.capitalize() ## first character of the sentence is capital\n",
    "print(s)\n",
    "print(s1)\n",
    "s2=s.title() ## first character of each word is capital\n",
    "print(s2)\n",
    "sentence= \"to be or not to be that is the question\"\n",
    "print(sentence.count(\"to\")) ## count how many characters are there\n",
    "print(sentence.count(\"to\",12)) ## count from the starting index\n",
    "print(sentence.count(\"to\",12,25)) ## count the character from start to stop\n",
    "print(sentence.count(\"that\",12,25)) ## count the character from start to stop\n",
    "print(sentence.index(\"be\")) ## first index will be returned if the element present over sentences\n",
    "print(sentence.rindex(\"be\")) ## last index of the character will be returned if the element present\n",
    "#print(sentence.index(\"hello\")) ## error \n",
    "print(sentence.find(\"be\"))\n",
    "print(sentence.rfind(\"be\"))\n",
    "print(sentence.find(\"hello\")) ## return -1 if the element not present in the sentence\n",
    "print(sentence.startswith(\"to\")) ## if the string starts with that one it will return True otherwise false\n",
    "print(sentence.startswith(\"be\"))\n",
    "print(sentence.endswith(\"question\")) # if the string ends with that one it will return True otherwise false\n",
    "print(sentence.endswith(\"quest\"))\n",
    "print(sentence.replace(\" \",\"\\t\")) ## replace the character by another character"
   ]
  },
  {
   "cell_type": "markdown",
   "id": "300b6581-f542-4336-9adf-7991c527ad6f",
   "metadata": {},
   "source": [
    "# Split, Join and patrition"
   ]
  },
  {
   "cell_type": "code",
   "execution_count": 63,
   "id": "b7d32c37-eebf-4e0d-98e4-4bf560d3a8fb",
   "metadata": {},
   "outputs": [
    {
     "name": "stdout",
     "output_type": "stream",
     "text": [
      "['a', 'b', 'c', 'd']\n",
      "['a', 'b', 'bd']\n",
      "['a', 'b', 'c', 'd']\n",
      "a b 2 d\n",
      "('a', ',', ' b,c ')\n",
      "('a, b,c ', '', '')\n",
      "['This is line 1', 'this is line 2', 'this is line 3']\n",
      "['This is line 1\\n', 'this is line 2\\n', 'this is line 3\\n']\n"
     ]
    }
   ],
   "source": [
    "letter=\"a,b,c,d\"\n",
    "print(letter.split(\",\")) ## split the str depending upon return will be list\n",
    "letter=\"a b bd\"\n",
    "s=\"a\\tb\\tc\\td\"\n",
    "print(letter.split())\n",
    "print(s.split())\n",
    "\n",
    "letter=[\"a\",\"b\",\"2\",\"d\"]\n",
    "print(\" \".join(letter)) ## join the iterable str object to form one string\n",
    "s=\"a, b,c \"\n",
    "print(s.partition(\",\")) ## a tuple object will be return first object in the first partition second object is the delimiter and third object in rest of the partion\n",
    "print(s.partition(\":\")) ## if the delimiter is not present\n",
    "s=\"\"\"This is line 1\n",
    "this is line 2\n",
    "this is line 3\n",
    "\"\"\"\n",
    "print(s.splitlines()) ## split the string with lines\n",
    "print(s.splitlines(True)) ## split the string with lines with new lines will be added"
   ]
  },
  {
   "cell_type": "markdown",
   "id": "5581b050-0f4a-4160-b2c3-93bc590b0cde",
   "metadata": {},
   "source": [
    "# Character Testing method"
   ]
  },
  {
   "cell_type": "code",
   "execution_count": 79,
   "id": "c0db46c2-d558-412a-a461-e6fed0648b27",
   "metadata": {},
   "outputs": [
    {
     "name": "stdout",
     "output_type": "stream",
     "text": [
      "False\n",
      "True\n",
      "False\n",
      "True\n"
     ]
    }
   ],
   "source": [
    "print(\"-27\".isdigit()) ## true if the string has only digit otherwise false\n",
    "print(\"27\".isdigit())\n",
    "print(\"123 abc\".isalnum()) ## True if the string contains only alphabet or numerics otherwise false\n",
    "print(\"123abs\".isalnum())"
   ]
  },
  {
   "cell_type": "markdown",
   "id": "f2eecd9e-6dd7-42b0-b4e9-565322080057",
   "metadata": {},
   "source": [
    "# RAW String"
   ]
  },
  {
   "cell_type": "code",
   "execution_count": 88,
   "id": "abec9761-f486-4d6c-9b1b-e7f444577d60",
   "metadata": {},
   "outputs": [
    {
     "name": "stdout",
     "output_type": "stream",
     "text": [
      "C:\\MyFoldar\\Mysubfoldar\\Myfile.txt\n",
      "C:\\MyFoldar\\Mysubfoldar\\Myfile.txt\n",
      "This is a\n",
      "normal string.\n",
      "This is a\\nraw string.\n"
     ]
    }
   ],
   "source": [
    "filepath=\"C:\\\\MyFoldar\\\\Mysubfoldar\\\\Myfile.txt\"\n",
    "print(filepath)\n",
    "filepath=r\"C:\\MyFoldar\\Mysubfoldar\\Myfile.txt\"\n",
    "print(filepath)\n",
    "normal_string = \"This is a\\nnormal string.\"  # Contains a newline\n",
    "raw_string = r\"This is a\\nraw string.\"       # Contains the literal \"\\n\"\n",
    "print(normal_string)  # Output: This is a\n",
    "                      #         normal string.\n",
    "print(raw_string)     # Output: This is a\\nraw string.\n"
   ]
  },
  {
   "cell_type": "markdown",
   "id": "9a4fa7ea-8426-439f-90b6-0cc4cae8bdde",
   "metadata": {},
   "source": [
    "# Reguar Expression"
   ]
  },
  {
   "cell_type": "code",
   "execution_count": 95,
   "id": "8f7b1994-0612-4f73-a355-216cd42ff2b0",
   "metadata": {},
   "outputs": [
    {
     "name": "stdout",
     "output_type": "stream",
     "text": [
      "match\n",
      "no match\n"
     ]
    }
   ],
   "source": [
    "import re\n",
    "pattern=\"022215\"\n",
    "print(\"match\" if re.fullmatch(pattern,\"022215\") else \"no match\") ## A full match in regular expressions ensures that the entire string matches the pattern, not just a part of it.\n",
    "print(\"match\" if re.fullmatch(pattern,\"0222\") else \"no match\")"
   ]
  },
  {
   "cell_type": "markdown",
   "id": "9fc7053e-80e6-4254-9e3e-97f5242bb654",
   "metadata": {},
   "source": [
    "# 1. * (Zero or More)\n",
    " ## Matches zero or more occurrences of the preceding character or group.\n",
    "\n",
    "## Pattern: a*\n",
    "### Matches: \"\", \"a\", \"aa\", \"aaa\", etc.\n",
    "\n",
    "# 2. + (One or More)\n",
    "## Matches one or more occurrences of the preceding character or group.\n",
    "\n",
    "## Pattern: a+\n",
    "### Matches: \"a\", \"aa\", \"aaa\", etc.\n",
    "# 3. . (Any Character)\n",
    "## Matches any single character, except a newline (\\n).\n",
    "\n",
    "## Pattern: a.b\n",
    "### Matches: \"aab\", \"acb\", \"adb\", etc.\n",
    "# 4. ? (Zero or One)\n",
    "## Matches zero or one occurrence of the preceding character or group (makes it optional).\n",
    "\n",
    " ## Pattern: colou?r\n",
    "## Matches: \"color\", \"colour\"\n",
    "# 5. ^ (Start of String)\n",
    "## Matches the start of a string.\n",
    "\n",
    "### Pattern: ^abc\n",
    "### Matches: \"abc\", but not \"zabc\"\n",
    "# 5. $ (End of String Match)\n",
    "## Ensures that the string ends with the given character(s) or pattern.\n",
    "\n",
    "## Pattern: abc$\n",
    "\n",
    "## Matches: \"abc\", \"xabc\"\n",
    "## Does not match: \"abcd\"\n",
    "# 6. | (Or)\n",
    "## Acts as a logical OR, matching either the pattern on the left or the pattern on the right.\n",
    "\n",
    "### Pattern: cat|dog\n",
    "### Matches: \"cat\", \"dog\"\n",
    "# 7. \\ (Escape Character)\n",
    "## Used to escape special characters to match them literally or introduce special sequences (e.g., \\d, \\w).\n",
    "\n",
    "### Pattern: \\*\n",
    "### Matches: \"*\"\n",
    "\n",
    "# 8. [] (Character Set)\n",
    "## Defines a set of characters to match. Matches any one character inside the brackets.\n",
    "\n",
    "## Pattern Examples:\n",
    "\n",
    "### [abc]: Matches a, b, or c.\n",
    "### [0-9]: Matches any digit from 0 to 9.\n",
    "### [a-zA-Z]: Matches any uppercase or lowercase letter.\n",
    "### [^abc]: Matches any character except a, b, or c.\n",
    "\n",
    "# 9. {} (Quantifier)\n",
    "## Specifies the number of occurrences to match.\n",
    "\n",
    "## Pattern Examples:\n",
    "\n",
    "### a{3}: Matches exactly 3 occurrences of a (e.g., \"aaa\").\n",
    "### a{2,4}: Matches 2 to 4 occurrences of a (e.g., \"aa\", \"aaa\", \"aaaa\").\n",
    "### a{2,}: Matches 2 or more occurrences of a (e.g., \"aa\", \"aaa\", etc.).\n",
    "\n",
    "# 10. () (Grouping and Capturing)\n",
    "## Creates a group to:\n",
    "\n",
    "## Capture a substring for later use (with group()).\n",
    "## Apply operators to the group rather than individual characters.\n",
    "## Pattern Examples:\n",
    "\n",
    "### (abc): Matches the literal string \"abc\".\n",
    "### (ab|cd): Matches \"ab\" or \"cd\".\n",
    "\n",
    "# 11. \\d (Digit)\n",
    "## Matches any digit (0-9).\n",
    "\n",
    "## Pattern Examples:\n",
    "### \\d: Matches 0, 1, ..., 9.\n",
    "### \\d+: Matches one or more digits (e.g., \"123\").\n",
    "\n",
    "# 12. \\D (Non-Digit)\n",
    "## Matches any character that is not a digit.\n",
    "\n",
    "## Pattern Examples:\n",
    "### \\D: Matches a, #, !, etc., but not 0-9.\n",
    "### \\D+: Matches one or more non-digit characters (e.g., \"abc\", \"@#$\").\n",
    "\n",
    "# 13. \\s (Whitespace)\n",
    "## Matches any whitespace character, including:\n",
    "\n",
    "### Space ( )\n",
    "\n",
    "### Tab (\\t)\n",
    "\n",
    "### Newline (\\n)\n",
    "\n",
    "\n",
    "## Pattern Examples:\n",
    "\n",
    "### \\s: Matches a single whitespace character.\n",
    "### \\s+: Matches one or more whitespace characters.\n",
    "\n",
    "# 14. \\S (Non-Whitespace)\n",
    "## Matches any character that is not a whitespace.\n",
    "\n",
    "## Pattern Examples:\n",
    "### \\S: Matches a, 1, @, etc., but not spaces, tabs, or newlines.\n",
    "### \\S+: Matches sequences of non-whitespace characters (e.g., \"abc123!\").\n",
    "\n",
    "# 15. \\w (Word Character)\n",
    "## Matches any alphanumeric character (a-z, A-Z, 0-9) or an underscore (_).\n",
    "\n",
    "## Pattern Examples:\n",
    "### \\w: Matches a, 1, _, etc.\n",
    "### \\w+: Matches sequences of word characters (e.g., \"hello_123\").\n",
    "# 16. \\W (Non-Word Character)\n",
    "## Matches any character that is not alphanumeric or an underscore.\n",
    "\n",
    "## Pattern Examples:\n",
    "### \\W: Matches #, @, , etc., but not letters, digits, or _.\n",
    "### \\W+: Matches sequences of non-word characters (e.g., \"@#$ \")."
   ]
  },
  {
   "cell_type": "code",
   "execution_count": 47,
   "id": "9a4fa962-2ba9-4992-a0d7-173f01efa4ca",
   "metadata": {},
   "outputs": [
    {
     "name": "stdout",
     "output_type": "stream",
     "text": [
      "Valid\n",
      "Valid\n",
      "invalid\n",
      "Valid\n",
      "invalid\n",
      "Valid\n",
      "invalid\n",
      "Valid\n",
      "invalid\n",
      "Valid\n",
      "invalid\n",
      "Valid\n",
      "invalid\n",
      "Valid\n",
      "Valid\n",
      "invalid\n",
      "Valid\n"
     ]
    }
   ],
   "source": [
    "import re\n",
    "print(\"Valid\" if re.fullmatch('[A-Z][a-z]*',\"Wally\") else \"invalid\")\n",
    "#print(\"Valid\" if re.fullmatch('\\d{5}',\"02215\") else \"invalid\")\n",
    "#print(\"Valid\" if re.fullmatch('\\d{5}',\"0222365\") else \"invalid\")\n",
    "#print(\"Valid\" if re.fullmatch('\\d{5,}',\"0222365\") else \"invalid\")\n",
    "#print(\"Valid\" if re.fullmatch('\\d{5,}',\"0222\") else \"invalid\")\n",
    "#print(\"Valid\" if re.fullmatch('\\d{5,10}',\"0222365\") else \"invalid\")\n",
    "#print(\"Valid\" if re.fullmatch('\\d{5,8}',\"02223655689\") else \"invalid\")\n",
    "#print(\"Valid\" if re.fullmatch('[^a-z]',\"A\") else \"invalid\")\n",
    "#print(\"Valid\" if re.fullmatch('[^a-z]',\"a\") else \"invalid\")\n",
    "#print(\"Valid\" if re.fullmatch('[*+$]',\"%\") else \"invalid\")\n",
    "#print(\"Valid\" if re.fullmatch('[A-Z][a-z]+',\"Wally\") else \"invalid\")\n",
    "#print(\"Valid\" if re.fullmatch('[A-Z][a-z]+',\"E\") else \"invalid\")\n",
    "#print(\"Valid\" if re.fullmatch('[*+$]',\"*\") else \"invalid\")\n",
    "#print(\"Valid\" if re.fullmatch('labell?ed',\"labelled\") else \"invalid\")\n",
    "#print(\"Valid\" if re.fullmatch('labell?ed',\"labellled\") else \"invalid\")\n",
    "#print(\"Valid\" if re.fullmatch('labell?ed',\"labeled\") else \"invalid\")"
   ]
  },
  {
   "cell_type": "markdown",
   "id": "4df1e5d6-bd8e-4560-a095-ac228f96d3c1",
   "metadata": {},
   "source": [
    "# Replacing substring and splitting string"
   ]
  },
  {
   "cell_type": "code",
   "execution_count": 60,
   "id": "a546a09a-d3e3-4988-ae3c-19de12937709",
   "metadata": {},
   "outputs": [
    {
     "name": "stdout",
     "output_type": "stream",
     "text": [
      "1,2,3,4\n",
      "The sky is green and the ocean is green.\n",
      "The sky is green and the ocean is blue.\n",
      "['The', 'sky', 'is', 'blue,', 'and', 'the', 'ocean', 'is', 'blue.']\n",
      "['The sky is ', ', and the ocean is ', '.']\n",
      "['The', ' ', 'sky', ' ', 'is', ' ', 'blue,', ' ', 'and', ' ', 'the', ' ', 'ocean', ' ', 'is', ' ', 'blue.']\n"
     ]
    }
   ],
   "source": [
    "import re\n",
    "print(re.sub(r\"\\t\",\",\", \"1\\t2\\t3\\t4\"))\n",
    "\n",
    "text = \"The sky is blue and the ocean is blue.\"\n",
    "result = re.sub(r'blue', 'green', text)\n",
    "#print(result)  # Output: The sky is green and the ocean is green.\n",
    "result = re.sub(r'blue', 'green', text, count=1)\n",
    "#print(result)  # Output: The sky is green and the ocean is blue.\n",
    "\n",
    "\n",
    "text = \"The sky is blue, and the ocean is blue.\"\n",
    "\n",
    "# Split by whitespace\n",
    "result = re.split(r'\\s+', text)\n",
    "print(result)\n",
    "# Output: ['The', 'sky', 'is', 'blue,', 'and', 'the', 'ocean', 'is', 'blue.']\n",
    "result = re.split(r'blue', text)\n",
    "#print(result)\n",
    "# Output: ['The sky is ', ' and the ocean is ', '.']\n",
    "text = \"The sky is blue, and the ocean is blue.\"\n",
    "\n",
    "# Split but keep the spaces\n",
    "result = re.split(r'(\\s+)', text)\n",
    "#print(result)\n",
    "\n"
   ]
  },
  {
   "cell_type": "markdown",
   "id": "dcf9bbfe-e3c0-471e-819e-9ea568e263db",
   "metadata": {},
   "source": [
    "# Other Search functions and Accessing match"
   ]
  },
  {
   "cell_type": "code",
   "execution_count": 125,
   "id": "2ab77dc6-c5c0-4a39-8162-11f8c49472e2",
   "metadata": {},
   "outputs": [],
   "source": [
    "import re\n",
    "## find first matching\n",
    "result=re.search(\"Python\",\"Python is fun Python\")\n",
    "#print(result.group())\n",
    "result=re.search(\"Sam\",\"SAM is fine\",flags=re.IGNORECASE)\n",
    "#print(result.group())\n",
    "result=re.search(\"^Python\",\"Python is fun\")\n",
    "#print(result.group())\n",
    "result=re.search(\"Python$\",\"Python is fun\")\n",
    "#print(result.group())\n",
    "result=re.search(\"fun$\",\"Python is fun\")\n",
    "#print(result.group())\n",
    "## find all\n",
    "contact=\"wally white, Home:555-555-1234, Work:555-555-4321\"\n",
    "result=re.findall(r\"\\d{3}-\\d{3}-\\d{4}\",contact)\n",
    "#print(result)\n",
    "result=re.finditer(r\"\\d{3}-\\d{3}-\\d{4}\",contact)\n",
    "#for i in result:\n",
    "#    print(i.group())\n"
   ]
  },
  {
   "cell_type": "code",
   "execution_count": 117,
   "id": "4f430d8d-7fc5-4b5e-93f4-65ef4fe7207c",
   "metadata": {},
   "outputs": [
    {
     "name": "stdout",
     "output_type": "stream",
     "text": [
      "('John Doe', 'example@example.com')\n"
     ]
    }
   ],
   "source": [
    "text = \"John Doe, email: example@example.com\"\n",
    "pattern = r\"([A-Z][a-z]+ [A-Z][a-z]+), email: (\\w+@\\w+\\.\\w{3})\"\n",
    "result = re.search(pattern, text)\n",
    "\n",
    "if result:\n",
    "    print(result.groups())  # Output: ('John Doe', 'example@example.com')\n",
    "else:\n",
    "    print(\"No match found\")\n"
   ]
  },
  {
   "cell_type": "code",
   "execution_count": null,
   "id": "c7470759-2217-455a-b862-ed4a3c3f7035",
   "metadata": {},
   "outputs": [],
   "source": []
  }
 ],
 "metadata": {
  "kernelspec": {
   "display_name": "Python 3 (ipykernel)",
   "language": "python",
   "name": "python3"
  },
  "language_info": {
   "codemirror_mode": {
    "name": "ipython",
    "version": 3
   },
   "file_extension": ".py",
   "mimetype": "text/x-python",
   "name": "python",
   "nbconvert_exporter": "python",
   "pygments_lexer": "ipython3",
   "version": "3.11.7"
  }
 },
 "nbformat": 4,
 "nbformat_minor": 5
}
